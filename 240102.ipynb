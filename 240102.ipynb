{
  "nbformat": 4,
  "nbformat_minor": 0,
  "metadata": {
    "colab": {
      "provenance": [],
      "authorship_tag": "ABX9TyMUlgyFxSCKhzzdFrVHh+CJ",
      "include_colab_link": true
    },
    "kernelspec": {
      "name": "python3",
      "display_name": "Python 3"
    },
    "language_info": {
      "name": "python"
    }
  },
  "cells": [
    {
      "cell_type": "markdown",
      "metadata": {
        "id": "view-in-github",
        "colab_type": "text"
      },
      "source": [
        "<a href=\"https://colab.research.google.com/github/todd1136/aipython/blob/main/240102.ipynb\" target=\"_parent\"><img src=\"https://colab.research.google.com/assets/colab-badge.svg\" alt=\"Open In Colab\"/></a>"
      ]
    },
    {
      "cell_type": "code",
      "execution_count": 1,
      "metadata": {
        "colab": {
          "base_uri": "https://localhost:8080/"
        },
        "id": "A9p5EP1e2fx4",
        "outputId": "5751dfa0-a4fc-42fa-b3dd-edbe11ea2d1c"
      },
      "outputs": [
        {
          "output_type": "stream",
          "name": "stdout",
          "text": [
            "40\n"
          ]
        }
      ],
      "source": [
        "number = 10\n",
        "number = 20\n",
        "result = number*2\n",
        "print(result)"
      ]
    },
    {
      "cell_type": "code",
      "source": [
        "a=int(input(\"당신의 나이는? \"))\n",
        "print(a,\"살 이군요.\")\n",
        "print(\"내년엔\",a+1,\"살이 되네요\")\n",
        "print(type(a))"
      ],
      "metadata": {
        "colab": {
          "base_uri": "https://localhost:8080/"
        },
        "id": "jxtTNIr72iWW",
        "outputId": "99846ded-0c2c-4907-ff64-5f0fb54ec5e9"
      },
      "execution_count": 3,
      "outputs": [
        {
          "output_type": "stream",
          "name": "stdout",
          "text": [
            "당신의 나이는? 11\n",
            "11 살 이군요.\n",
            "내년엔 12 살이 되네요\n",
            "<class 'int'>\n"
          ]
        }
      ]
    },
    {
      "cell_type": "code",
      "source": [
        "a=int(input(\"당신의 나이는? \"))\n",
        "msg = str(a)+\"살 이군요.\"\n",
        "print(msg)\n",
        "print(\"내년엔\",a+1,\"살이 되네요\")\n",
        "print(type(a))"
      ],
      "metadata": {
        "colab": {
          "base_uri": "https://localhost:8080/"
        },
        "id": "8Ct8JXxs2jut",
        "outputId": "57b980aa-a670-42c3-885e-30cf7e16a559"
      },
      "execution_count": 6,
      "outputs": [
        {
          "output_type": "stream",
          "name": "stdout",
          "text": [
            "당신의 나이는? 11\n",
            "11살 이군요.\n",
            "내년엔 12 살이 되네요\n",
            "<class 'int'>\n"
          ]
        }
      ]
    },
    {
      "cell_type": "code",
      "source": [
        "a = \"파이썬\"\n",
        "print(a,\"아 반가워\")\n",
        "print(\"%s아 반가워\"%a)\n",
        "msg = a+\"아 반가워\"\n",
        "print(msg)"
      ],
      "metadata": {
        "colab": {
          "base_uri": "https://localhost:8080/"
        },
        "id": "56Clsf-c4TUX",
        "outputId": "905cdf05-b10e-4b23-bd7f-c81b815d07a7"
      },
      "execution_count": 8,
      "outputs": [
        {
          "output_type": "stream",
          "name": "stdout",
          "text": [
            "파이썬 아 반가워\n",
            "파이썬아 반가워\n",
            "파이썬아 반가워\n"
          ]
        }
      ]
    },
    {
      "cell_type": "code",
      "source": [
        "name=\"홍길동\"\n",
        "age=20.5\n",
        "print(\"이름은 {:10s}이고 나이는 {:5.2f}입니다.\".format(name,age))"
      ],
      "metadata": {
        "colab": {
          "base_uri": "https://localhost:8080/"
        },
        "id": "dYXCD87m6EfY",
        "outputId": "04bda1af-a46a-4797-8744-76835a202dd5"
      },
      "execution_count": 12,
      "outputs": [
        {
          "output_type": "stream",
          "name": "stdout",
          "text": [
            "이름은 홍길동       이고 나이는 20.50입니다.\n"
          ]
        }
      ]
    },
    {
      "cell_type": "code",
      "source": [
        "#2-6\n",
        "Lab = 105\n",
        "print('우리가 수업하는 실습실:')\n",
        "print(Lab)"
      ],
      "metadata": {
        "colab": {
          "base_uri": "https://localhost:8080/"
        },
        "id": "HIbnRlHz-MSe",
        "outputId": "6e17d1dd-7f57-481b-a4e4-706c31be5939"
      },
      "execution_count": 14,
      "outputs": [
        {
          "output_type": "stream",
          "name": "stdout",
          "text": [
            "우리가 수업하는 실습실:\n",
            "105\n"
          ]
        }
      ]
    },
    {
      "cell_type": "code",
      "source": [
        "#2-7\n",
        "Lab = 105\n",
        "print('우리가 수업하는 실습실:',Lab)"
      ],
      "metadata": {
        "colab": {
          "base_uri": "https://localhost:8080/"
        },
        "id": "SyOQo-d3B873",
        "outputId": "7947694c-3471-4068-f93e-fdc527b4c8a4"
      },
      "execution_count": 17,
      "outputs": [
        {
          "output_type": "stream",
          "name": "stdout",
          "text": [
            "우리가 수업하는 실습실: 105\n"
          ]
        }
      ]
    },
    {
      "cell_type": "code",
      "source": [
        "#2-8\n",
        "my_id = 20150001\n",
        "grade = 1\n",
        "print('나의 학번:')\n",
        "print(my_id)\n",
        "print('학년:')\n",
        "print(grade)"
      ],
      "metadata": {
        "colab": {
          "base_uri": "https://localhost:8080/"
        },
        "id": "w95bZh2QEgHw",
        "outputId": "5ddc5e95-1da0-481c-d26f-77fbaef5404a"
      },
      "execution_count": 18,
      "outputs": [
        {
          "output_type": "stream",
          "name": "stdout",
          "text": [
            "나의 학번:\n",
            "20150001\n",
            "학년:\n",
            "1\n"
          ]
        }
      ]
    },
    {
      "cell_type": "code",
      "source": [
        "#2-9\n",
        "dollars = 2.75\n",
        "print('I have',dollars,\"in my account.\")\n",
        "dollars = 99.95\n",
        "print('But now I have',dollars,'in my account!')"
      ],
      "metadata": {
        "colab": {
          "base_uri": "https://localhost:8080/"
        },
        "id": "AgiPoXYqE7yT",
        "outputId": "0672fb3d-6b4b-42e7-c49f-028440f13bae"
      },
      "execution_count": 19,
      "outputs": [
        {
          "output_type": "stream",
          "name": "stdout",
          "text": [
            "I have 2.75 in my account.\n",
            "But now I have 99.95 in my account!\n"
          ]
        }
      ]
    },
    {
      "cell_type": "code",
      "source": [
        "#2-10\n",
        "department = '국어국문학과'\n",
        "name = '홍길동'\n",
        "print(department,name)"
      ],
      "metadata": {
        "colab": {
          "base_uri": "https://localhost:8080/"
        },
        "id": "TZO6uiudFdd1",
        "outputId": "141416fd-a860-4e9b-93a7-b2dedce2982a"
      },
      "execution_count": 20,
      "outputs": [
        {
          "output_type": "stream",
          "name": "stdout",
          "text": [
            "국어국문학과 홍길동\n"
          ]
        }
      ]
    },
    {
      "cell_type": "code",
      "source": [
        "#2-11\n",
        "department = input('학과명 : ')\n",
        "name = input('성명 : ')\n",
        "print('안녕하세요',department,name)"
      ],
      "metadata": {
        "colab": {
          "base_uri": "https://localhost:8080/"
        },
        "id": "WoYUJIgkFzIl",
        "outputId": "3cc7cae7-dc7c-4600-dfbb-cc462e8bf633"
      },
      "execution_count": 42,
      "outputs": [
        {
          "output_type": "stream",
          "name": "stdout",
          "text": [
            "학과명 : 국어국문학과\n",
            "성명 : 홍길동\n",
            "안녕하세요 국어국문학과 홍길동\n"
          ]
        }
      ]
    },
    {
      "cell_type": "code",
      "source": [
        "#2-12\n",
        "name = input('당신의 이름은 무엇입니까? ')\n",
        "age = int(input('나이는 어떻게 되시나요? '))\n",
        "attending_time = float(input('통학시간은 얼마나 걸립니까? '))\n",
        "print('입력 정보는 다음과 같습니다.')\n",
        "print('이름 :',name)\n",
        "print('나이 :',age)\n",
        "print('통학시간 :',attending_time)"
      ],
      "metadata": {
        "colab": {
          "base_uri": "https://localhost:8080/"
        },
        "id": "-f8rnwl7GDwM",
        "outputId": "537bc162-7811-4dad-d4a5-883b9cf9dfb6"
      },
      "execution_count": 43,
      "outputs": [
        {
          "output_type": "stream",
          "name": "stdout",
          "text": [
            "당신의 이름은 무엇입니까? 홍길동\n",
            "나이는 어떻게 되시나요? 20\n",
            "통학시간은 얼마나 걸립니까? 2\n",
            "입력 정보는 다음과 같습니다.\n",
            "이름 : 홍길동\n",
            "나이 : 20\n",
            "통학시간 : 2.0\n"
          ]
        }
      ]
    },
    {
      "cell_type": "code",
      "source": [
        "#2-13\n",
        "salary = 2500.0\n",
        "bonus = 1200.0\n",
        "pay = salary + bonus\n",
        "print('총 급여 :',pay)"
      ],
      "metadata": {
        "colab": {
          "base_uri": "https://localhost:8080/"
        },
        "id": "wP3cUw2FGu5O",
        "outputId": "10271554-9a43-45fb-eff2-36c21bd6ad08"
      },
      "execution_count": 25,
      "outputs": [
        {
          "output_type": "stream",
          "name": "stdout",
          "text": [
            "총 급여 : 3700.0\n"
          ]
        }
      ]
    },
    {
      "cell_type": "code",
      "source": [
        "#2-14\n",
        "original_price = float(input(\"제품의 원가를 입력해주세요 :\"))\n",
        "discount = original_price * 0.2\n",
        "sale_price = original_price - discount\n",
        "print('할인가격 :',sale_price)"
      ],
      "metadata": {
        "colab": {
          "base_uri": "https://localhost:8080/"
        },
        "id": "6G9mVZ0hG_mF",
        "outputId": "9a6ce129-a13b-4984-b6db-9bfd3ee7d936"
      },
      "execution_count": 28,
      "outputs": [
        {
          "output_type": "stream",
          "name": "stdout",
          "text": [
            "제품의 원가를 입력해주세요 :355\n",
            "할인가격 : 284.0\n"
          ]
        }
      ]
    },
    {
      "cell_type": "code",
      "source": [
        "#2-15\n",
        "test1 = float(input('첫 번째 과목 점수를 입력해주세요 :'))\n",
        "test2 = float(input('두 번째 과목 점수를 입력해주세요 :'))\n",
        "test3 = float(input('세 번째 과목 점수를 입력해주세요 :'))\n",
        "average = (test1 + test2 + test3)/3.0\n",
        "print('3 과목의 평균 점수 :',average)"
      ],
      "metadata": {
        "colab": {
          "base_uri": "https://localhost:8080/"
        },
        "id": "HzFLYbErHeCN",
        "outputId": "fe0c67b6-6b3e-4d71-be36-b4630009f480"
      },
      "execution_count": 31,
      "outputs": [
        {
          "output_type": "stream",
          "name": "stdout",
          "text": [
            "첫 번째 과목 점수를 입력해주세요 :23\n",
            "두 번째 과목 점수를 입력해주세요 :32\n",
            "세 번째 과목 점수를 입력해주세요 :13\n",
            "3 과목의 평균 점수 : 22.666666666666668\n"
          ]
        }
      ]
    },
    {
      "cell_type": "code",
      "source": [
        "#2-16\n",
        "total_seconds = float(input('시간 값을 초 단위로 입력해주세요 :'))\n",
        "hours = total_seconds // 3600\n",
        "minutes = (total_seconds // 60) % 60\n",
        "seconds = total_seconds % 60\n",
        "print('시 분 초는 다음과 같습니다.')\n",
        "print('시 :',hours)\n",
        "print('분 :',minutes)\n",
        "print('초 :',seconds)"
      ],
      "metadata": {
        "colab": {
          "base_uri": "https://localhost:8080/"
        },
        "id": "kFGqfZjIISv9",
        "outputId": "40d52e1d-c52e-483e-da74-453836853409"
      },
      "execution_count": 32,
      "outputs": [
        {
          "output_type": "stream",
          "name": "stdout",
          "text": [
            "시간 값을 초 단위로 입력해주세요 :35789\n",
            "시 분 초는 다음과 같습니다.\n",
            "시 : 9.0\n",
            "분 : 56.0\n",
            "초 : 29.0\n"
          ]
        }
      ]
    },
    {
      "cell_type": "code",
      "source": [
        "#2-17\n",
        "future_value = float(input('목표 금액을 입력해주세요 :'))\n",
        "rate = float(input('연간 이율을 입력해주세요 :'))\n",
        "years = int(input('저축 기간을 연 단위로 입력해주세요 :'))\n",
        "present_value = future_value / (1.0 + rate)**years\n",
        "print('적립 금액 :',present_value)"
      ],
      "metadata": {
        "colab": {
          "base_uri": "https://localhost:8080/"
        },
        "id": "e52F8IELJh1t",
        "outputId": "cdcc1f1d-d324-4273-9d7c-07a0f364fe59"
      },
      "execution_count": 35,
      "outputs": [
        {
          "output_type": "stream",
          "name": "stdout",
          "text": [
            "목표 금액을 입력해주세요 :20000000\n",
            "연간 이율을 입력해주세요 :3.4\n",
            "저축 기간을 연 단위로 입력해주세요 :3\n",
            "적립 금액 : 234785.87528174298\n"
          ]
        }
      ]
    },
    {
      "cell_type": "code",
      "source": [
        "#2-18\n",
        "print('a','b','c')\n",
        "print('a','b','c',sep='')\n",
        "print('a','b','c',sep='***')"
      ],
      "metadata": {
        "colab": {
          "base_uri": "https://localhost:8080/"
        },
        "id": "2S6HNWwlKGBz",
        "outputId": "dd5acfc5-f040-4f44-b78c-bacb1efc07ec"
      },
      "execution_count": 36,
      "outputs": [
        {
          "output_type": "stream",
          "name": "stdout",
          "text": [
            "a b c\n",
            "abc\n",
            "a***b***c\n"
          ]
        }
      ]
    },
    {
      "cell_type": "code",
      "source": [
        "#2-19\n",
        "print('a')\n",
        "print('b')\n",
        "print('c',end='')\n",
        "print('d',end='')\n",
        "print('e',end='***')\n",
        "print('f')"
      ],
      "metadata": {
        "colab": {
          "base_uri": "https://localhost:8080/"
        },
        "id": "TIN4XA8_Kmrl",
        "outputId": "739234ee-72d4-4fd0-ec5a-d1258b07409e"
      },
      "execution_count": 37,
      "outputs": [
        {
          "output_type": "stream",
          "name": "stdout",
          "text": [
            "a\n",
            "b\n",
            "cde***f\n"
          ]
        }
      ]
    },
    {
      "cell_type": "code",
      "source": [
        "#2-20\n",
        "amount_due = 5000.0\n",
        "monthly_payment = amount_due / 12.0\n",
        "print('월급여 :',monthly_payment)"
      ],
      "metadata": {
        "colab": {
          "base_uri": "https://localhost:8080/"
        },
        "id": "HNyY2HAHK-H8",
        "outputId": "d2e1c201-31fc-4ea8-e47f-f89920a3e642"
      },
      "execution_count": 38,
      "outputs": [
        {
          "output_type": "stream",
          "name": "stdout",
          "text": [
            "월급여 : 416.6666666666667\n"
          ]
        }
      ]
    },
    {
      "cell_type": "code",
      "source": [
        "#2-21\n",
        "amount_due = 5000.0\n",
        "monthly_payment = amount_due / 12\n",
        "print('월급여 :',format(monthly_payment,'.2f'))"
      ],
      "metadata": {
        "colab": {
          "base_uri": "https://localhost:8080/"
        },
        "id": "tC9CphncLRqd",
        "outputId": "0943518f-3873-4a5c-8a0b-1411815b9679"
      },
      "execution_count": 39,
      "outputs": [
        {
          "output_type": "stream",
          "name": "stdout",
          "text": [
            "월급여 : 416.67\n"
          ]
        }
      ]
    },
    {
      "cell_type": "code",
      "source": [
        "#2-22\n",
        "monthly_pay = 5000.0\n",
        "annual_pay = monthly_pay * 12\n",
        "print('Your annual pay is $',format(annual_pay,'.2f'),sep='')"
      ],
      "metadata": {
        "colab": {
          "base_uri": "https://localhost:8080/"
        },
        "id": "u808rAVQLi1F",
        "outputId": "53978f78-a709-4480-84b2-daa2a9e7fdfe"
      },
      "execution_count": 40,
      "outputs": [
        {
          "output_type": "stream",
          "name": "stdout",
          "text": [
            "Your annual pay is $60000.00\n"
          ]
        }
      ]
    },
    {
      "cell_type": "code",
      "source": [
        "#2-23\n",
        "num1 = 127.899\n",
        "num2 = 3465.148\n",
        "num3 = 3.776\n",
        "num4 = 264.821\n",
        "num5 = 88.081\n",
        "num6 = 799.999\n",
        "print(format(num1,'7.2f'))\n",
        "print(format(num2,'7.2f'))\n",
        "print(format(num3,'7.2f'))\n",
        "print(format(num4,'7.2f'))\n",
        "print(format(num5,'7.2f'))\n",
        "print(format(num6,'7.2f'))"
      ],
      "metadata": {
        "colab": {
          "base_uri": "https://localhost:8080/"
        },
        "id": "DXFgEdsyL7s0",
        "outputId": "1e25a9c7-5aea-4ea0-95ed-b882ce7139db"
      },
      "execution_count": 41,
      "outputs": [
        {
          "output_type": "stream",
          "name": "stdout",
          "text": [
            " 127.90\n",
            "3465.15\n",
            "   3.78\n",
            " 264.82\n",
            "  88.08\n",
            " 800.00\n"
          ]
        }
      ]
    },
    {
      "cell_type": "code",
      "source": [],
      "metadata": {
        "id": "GFEFRdAKMtIO"
      },
      "execution_count": null,
      "outputs": []
    }
  ]
}