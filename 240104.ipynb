{
  "nbformat": 4,
  "nbformat_minor": 0,
  "metadata": {
    "colab": {
      "provenance": [],
      "authorship_tag": "ABX9TyPyDfseM2g8M0GCKcJ1u/Ox",
      "include_colab_link": true
    },
    "kernelspec": {
      "name": "python3",
      "display_name": "Python 3"
    },
    "language_info": {
      "name": "python"
    }
  },
  "cells": [
    {
      "cell_type": "markdown",
      "metadata": {
        "id": "view-in-github",
        "colab_type": "text"
      },
      "source": [
        "<a href=\"https://colab.research.google.com/github/todd1136/aipython/blob/main/240104.ipynb\" target=\"_parent\"><img src=\"https://colab.research.google.com/assets/colab-badge.svg\" alt=\"Open In Colab\"/></a>"
      ]
    },
    {
      "cell_type": "code",
      "execution_count": null,
      "metadata": {
        "colab": {
          "base_uri": "https://localhost:8080/"
        },
        "id": "cS-EqetfGKV0",
        "outputId": "bd3915bc-283d-44ed-fe28-cd69e1f7c98a"
      },
      "outputs": [
        {
          "output_type": "stream",
          "name": "stdout",
          "text": [
            "안녕 1\n",
            "안녕 2\n",
            "안녕 3\n"
          ]
        }
      ],
      "source": [
        "a = 1  #start\n",
        "while(a <= 3):  #stop\n",
        "    print('안녕',a)\n",
        "    a+=1"
      ]
    },
    {
      "cell_type": "code",
      "source": [
        "for i in range(1,5):\n",
        "  print(i,'Welcome')\n",
        "  for s in range(1,4):\n",
        "    print(s,'Hello')\n",
        "print('Done')"
      ],
      "metadata": {
        "colab": {
          "base_uri": "https://localhost:8080/"
        },
        "id": "np2GbYATGNV_",
        "outputId": "7e8f7f9e-3f46-4cef-eb8f-6303b9daea61"
      },
      "execution_count": null,
      "outputs": [
        {
          "output_type": "stream",
          "name": "stdout",
          "text": [
            "1 Welcome\n",
            "1 Hello\n",
            "2 Hello\n",
            "3 Hello\n",
            "2 Welcome\n",
            "1 Hello\n",
            "2 Hello\n",
            "3 Hello\n",
            "3 Welcome\n",
            "1 Hello\n",
            "2 Hello\n",
            "3 Hello\n",
            "4 Welcome\n",
            "1 Hello\n",
            "2 Hello\n",
            "3 Hello\n",
            "Done\n"
          ]
        }
      ]
    },
    {
      "cell_type": "code",
      "source": [
        "A,B,C = map(int,input().split())\n",
        "if B>=A>=C or C>=A>=B: #A가 2번째로 큰 경우\n",
        "  print(A)\n",
        "elif A>=B>=C or C>=B>=A: #B가 2\n",
        "  print(B)\n",
        "else:\n",
        "  print(C)"
      ],
      "metadata": {
        "colab": {
          "base_uri": "https://localhost:8080/"
        },
        "id": "EY2dYhNuIrBd",
        "outputId": "1ba38837-4870-40a9-d86c-afe89443f57f"
      },
      "execution_count": null,
      "outputs": [
        {
          "output_type": "stream",
          "name": "stdout",
          "text": [
            "1 2 3\n",
            "2\n"
          ]
        }
      ]
    },
    {
      "cell_type": "code",
      "source": [
        "A,B,C = map(int,input().split())\n",
        "nums=[A,B,C] #List\n",
        "nums.sort() #오름차순정렬\n",
        "print(nums[1])"
      ],
      "metadata": {
        "colab": {
          "base_uri": "https://localhost:8080/"
        },
        "id": "wSr8QBZ1P9ie",
        "outputId": "64c770d3-219a-41e6-b521-4f955731da5c"
      },
      "execution_count": null,
      "outputs": [
        {
          "output_type": "stream",
          "name": "stdout",
          "text": [
            "2 3 4\n",
            "3\n"
          ]
        }
      ]
    },
    {
      "cell_type": "code",
      "source": [
        "nums=[1,2,3]\n",
        "nums[1]=0"
      ],
      "metadata": {
        "id": "Xx_yDkiBQAI9"
      },
      "execution_count": null,
      "outputs": []
    },
    {
      "cell_type": "code",
      "source": [
        "num=(1,2,3)\n",
        "num[1]=0"
      ],
      "metadata": {
        "colab": {
          "base_uri": "https://localhost:8080/",
          "height": 203
        },
        "id": "bFzwuYumQInq",
        "outputId": "ce911355-72e5-4961-9e15-5cf19e2074c1"
      },
      "execution_count": null,
      "outputs": [
        {
          "output_type": "error",
          "ename": "TypeError",
          "evalue": "ignored",
          "traceback": [
            "\u001b[0;31m---------------------------------------------------------------------------\u001b[0m",
            "\u001b[0;31mTypeError\u001b[0m                                 Traceback (most recent call last)",
            "\u001b[0;32m<ipython-input-14-766bcc86c378>\u001b[0m in \u001b[0;36m<cell line: 2>\u001b[0;34m()\u001b[0m\n\u001b[1;32m      1\u001b[0m \u001b[0mnum\u001b[0m\u001b[0;34m=\u001b[0m\u001b[0;34m(\u001b[0m\u001b[0;36m1\u001b[0m\u001b[0;34m,\u001b[0m\u001b[0;36m2\u001b[0m\u001b[0;34m,\u001b[0m\u001b[0;36m3\u001b[0m\u001b[0;34m)\u001b[0m\u001b[0;34m\u001b[0m\u001b[0;34m\u001b[0m\u001b[0m\n\u001b[0;32m----> 2\u001b[0;31m \u001b[0mnum\u001b[0m\u001b[0;34m[\u001b[0m\u001b[0;36m1\u001b[0m\u001b[0;34m]\u001b[0m\u001b[0;34m=\u001b[0m\u001b[0;36m0\u001b[0m\u001b[0;34m\u001b[0m\u001b[0;34m\u001b[0m\u001b[0m\n\u001b[0m",
            "\u001b[0;31mTypeError\u001b[0m: 'tuple' object does not support item assignment"
          ]
        }
      ]
    },
    {
      "cell_type": "code",
      "source": [
        "score = [[29,18,27,30],\n",
        "         [30,20,27,29],\n",
        "         [23,25,29,30]]\n",
        "for r in range(len(score)):\n",
        "  for c in range(len(score[r])):\n",
        "    print(score[r][c],end=\" \")\n",
        "  print()"
      ],
      "metadata": {
        "colab": {
          "base_uri": "https://localhost:8080/"
        },
        "id": "RGjuK-XbQUuj",
        "outputId": "7e90dac9-087e-41e0-e86e-499915b04c13"
      },
      "execution_count": null,
      "outputs": [
        {
          "output_type": "stream",
          "name": "stdout",
          "text": [
            "29 18 27 30 \n",
            "30 20 27 29 \n",
            "23 25 29 30 \n"
          ]
        }
      ]
    },
    {
      "cell_type": "code",
      "source": [
        "#비어있는 score 리스트 변수를 사용하여 학생들의 점수를 입력받는다. 모든 학생들의 합계, 총인원수, 평균을 출력해 보자. 만약 입력받은 점수가 숫자가 아닌 문자이면 입력을 종료한다.아래 프로그램의 실행 결과를 참고하여 작성해 보자.\n",
        "score=[]\n",
        "while True:\n",
        "  a = input('학생의 점수를 입력하세요.')\n",
        "  if not a.isdigit():\n",
        "    break\n",
        "  else:\n",
        "    score.append(int(a))\n",
        "    continue\n",
        "print('입력 데이터 출력 :',score)\n",
        "print('합계 : ',sum(score))\n",
        "print('인원수 :',len(score))\n",
        "print('평균 : {}'.format(sum(score)/len(score)))"
      ],
      "metadata": {
        "colab": {
          "base_uri": "https://localhost:8080/"
        },
        "id": "BGz4gIzJb4l2",
        "outputId": "59dbf0f1-5859-47e1-ba62-31e0807b514f"
      },
      "execution_count": 14,
      "outputs": [
        {
          "output_type": "stream",
          "name": "stdout",
          "text": [
            "학생의 점수를 입력하세요.90\n",
            "학생의 점수를 입력하세요.70\n",
            "학생의 점수를 입력하세요.30\n",
            "학생의 점수를 입력하세요.x\n",
            "입력 데이터 출력 : [90, 70, 30]\n",
            "합계 :  190\n",
            "인원수 : 3\n",
            "평균 : 63.333333333333336\n"
          ]
        }
      ]
    },
    {
      "cell_type": "code",
      "source": [],
      "metadata": {
        "id": "0_aIIeILdarN"
      },
      "execution_count": null,
      "outputs": []
    }
  ]
}