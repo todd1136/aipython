{
  "nbformat": 4,
  "nbformat_minor": 0,
  "metadata": {
    "colab": {
      "provenance": [],
      "authorship_tag": "ABX9TyO4mY4IDj/FopQTXfVJZmv7",
      "include_colab_link": true
    },
    "kernelspec": {
      "name": "python3",
      "display_name": "Python 3"
    },
    "language_info": {
      "name": "python"
    }
  },
  "cells": [
    {
      "cell_type": "markdown",
      "metadata": {
        "id": "view-in-github",
        "colab_type": "text"
      },
      "source": [
        "<a href=\"https://colab.research.google.com/github/todd1136/aipython/blob/main/240103.ipynb\" target=\"_parent\"><img src=\"https://colab.research.google.com/assets/colab-badge.svg\" alt=\"Open In Colab\"/></a>"
      ]
    },
    {
      "cell_type": "code",
      "execution_count": 1,
      "metadata": {
        "colab": {
          "base_uri": "https://localhost:8080/"
        },
        "id": "O9P63N3Q6p3t",
        "outputId": "976b4b6f-c8ab-49f4-ec27-1c654d253f05"
      },
      "outputs": [
        {
          "output_type": "stream",
          "name": "stdout",
          "text": [
            "a는 5보다 큽니다\n"
          ]
        }
      ],
      "source": [
        "a = 10\n",
        "if a > 5:\n",
        "  print(\"a는 5보다 큽니다\")"
      ]
    },
    {
      "cell_type": "code",
      "source": [
        "a = 'M'\n",
        "if a == 'M':\n",
        "  print('남자')\n",
        "else:\n",
        "  print('여자')"
      ],
      "metadata": {
        "colab": {
          "base_uri": "https://localhost:8080/"
        },
        "id": "AuI4qf5T6xHS",
        "outputId": "a4fc29b1-6b02-4859-adf1-3db80d2136f2"
      },
      "execution_count": 5,
      "outputs": [
        {
          "output_type": "stream",
          "name": "stdout",
          "text": [
            "남자\n"
          ]
        }
      ]
    },
    {
      "cell_type": "code",
      "source": [
        "score=int(input())\n",
        "if score>=90:\n",
        "  print('A')\n",
        "elif score>=80:\n",
        "  print('B')\n",
        "elif score>=70:\n",
        "  print('C')\n",
        "elif score>=60:\n",
        "  print('D')\n",
        "else:\n",
        "  print('F')"
      ],
      "metadata": {
        "colab": {
          "base_uri": "https://localhost:8080/"
        },
        "id": "KytLBEXO8yKD",
        "outputId": "65405cbf-b7f0-4dc8-89f1-56e0189f01a2"
      },
      "execution_count": 14,
      "outputs": [
        {
          "output_type": "stream",
          "name": "stdout",
          "text": [
            "100\n",
            "A\n"
          ]
        }
      ]
    },
    {
      "cell_type": "code",
      "source": [
        "a = 10\n",
        "b = 5\n",
        "if a > 5:\n",
        "  if b < 10:\n",
        "    print('a는 5보다 크고 b는 10보다 작습니다.')"
      ],
      "metadata": {
        "colab": {
          "base_uri": "https://localhost:8080/"
        },
        "id": "1kFsixAV-fun",
        "outputId": "6037996b-5722-4511-a4b3-1f6fe5ad6d49"
      },
      "execution_count": 15,
      "outputs": [
        {
          "output_type": "stream",
          "name": "stdout",
          "text": [
            "a는 5보다 크고 b는 10보다 작습니다.\n"
          ]
        }
      ]
    },
    {
      "cell_type": "code",
      "source": [
        "a = 10\n",
        "b = 5\n",
        "if a > 5 and b < 10:\n",
        "    print('a는 5보다 크고 b는 10보다 작습니다.')"
      ],
      "metadata": {
        "colab": {
          "base_uri": "https://localhost:8080/"
        },
        "id": "Ep7G5u6YBX7p",
        "outputId": "16e461e5-bf4c-4bf0-c64c-21e65096b4fa"
      },
      "execution_count": 17,
      "outputs": [
        {
          "output_type": "stream",
          "name": "stdout",
          "text": [
            "a는 5보다 크고 b는 10보다 작습니다.\n"
          ]
        }
      ]
    },
    {
      "source": [
        "a = [1, 2, 3, 4, 5]\n",
        "for i in a:\n",
        "    print(i, end=' ')"
      ],
      "cell_type": "code",
      "metadata": {
        "colab": {
          "base_uri": "https://localhost:8080/"
        },
        "id": "ffG8oeeuD1pB",
        "outputId": "ee99fb8a-a16f-4664-e9c2-0e8de88953ac"
      },
      "execution_count": 21,
      "outputs": [
        {
          "output_type": "stream",
          "name": "stdout",
          "text": [
            "1 2 3 4 5 "
          ]
        }
      ]
    },
    {
      "cell_type": "code",
      "source": [
        "for i in range(1,10,2):\n",
        "  print(i)\n",
        "print()\n",
        "for i in range(10):\n",
        "  print(i)"
      ],
      "metadata": {
        "colab": {
          "base_uri": "https://localhost:8080/"
        },
        "id": "h17PXC2yDd4X",
        "outputId": "b2656469-ca3a-48c2-88c5-d5d2fbfe8724"
      },
      "execution_count": 24,
      "outputs": [
        {
          "output_type": "stream",
          "name": "stdout",
          "text": [
            "1\n",
            "3\n",
            "5\n",
            "7\n",
            "9\n",
            "\n",
            "0\n",
            "1\n",
            "2\n",
            "3\n",
            "4\n",
            "5\n",
            "6\n",
            "7\n",
            "8\n",
            "9\n"
          ]
        }
      ]
    },
    {
      "cell_type": "code",
      "source": [
        "n = int(input())\n",
        "a = 0\n",
        "for i in range(n+1):\n",
        "  a = a + i\n",
        "print(a)"
      ],
      "metadata": {
        "colab": {
          "base_uri": "https://localhost:8080/"
        },
        "id": "AqvAA3hNEUEp",
        "outputId": "a74395c1-0cc3-429d-8dd3-041a6def3ca6"
      },
      "execution_count": 28,
      "outputs": [
        {
          "output_type": "stream",
          "name": "stdout",
          "text": [
            "4\n",
            "10\n"
          ]
        }
      ]
    },
    {
      "cell_type": "code",
      "source": [
        "# 세 정수 입력 받기\n",
        "A, B, C = map(int, input().split())\n",
        "\n",
        "# 두 번째로 큰 정수 찾기\n",
        "second_largest = None\n",
        "if A >= B >= C or C >= B >= A:\n",
        "    second_largest = B\n",
        "elif B >= A >= C or C >= A >= B:\n",
        "    second_largest = A\n",
        "else:\n",
        "    second_largest = C\n",
        "\n",
        "# 결과 출력\n",
        "print(second_largest)"
      ],
      "metadata": {
        "colab": {
          "base_uri": "https://localhost:8080/"
        },
        "id": "7GNfPs9iF2yA",
        "outputId": "5ca11d49-f83a-48b8-bbf4-dcb855be3072"
      },
      "execution_count": 29,
      "outputs": [
        {
          "output_type": "stream",
          "name": "stdout",
          "text": [
            "3 4 5\n",
            "4\n"
          ]
        }
      ]
    },
    {
      "cell_type": "code",
      "source": [
        "def add(x,y):\n",
        "  s = x + y\n",
        "  a = s / 2\n",
        "  return s, a\n",
        "h,a = add(10,20)\n",
        "print(\"합:\",h,\"평균:\",a)\n",
        "print(\"합:%d 평균:%.1f\"%(h,a))"
      ],
      "metadata": {
        "colab": {
          "base_uri": "https://localhost:8080/"
        },
        "id": "uvFbgwHgLqKB",
        "outputId": "396c15ba-3c26-42d3-ac08-5ede8270e3f4"
      },
      "execution_count": 32,
      "outputs": [
        {
          "output_type": "stream",
          "name": "stdout",
          "text": [
            "합: 30 평균: 15.0\n",
            "합:30 평균:15.0\n"
          ]
        }
      ]
    },
    {
      "cell_type": "code",
      "source": [
        "base_size = 8\n",
        "for r in range(base_size):\n",
        "  for c in range(8 - r):\n",
        "    print('*',end='')\n",
        "  print()"
      ],
      "metadata": {
        "colab": {
          "base_uri": "https://localhost:8080/"
        },
        "id": "wARX50yBPUAm",
        "outputId": "e0fa7c60-a19e-4524-e780-f2983dd8f584"
      },
      "execution_count": 36,
      "outputs": [
        {
          "output_type": "stream",
          "name": "stdout",
          "text": [
            "********\n",
            "*******\n",
            "******\n",
            "*****\n",
            "****\n",
            "***\n",
            "**\n",
            "*\n"
          ]
        }
      ]
    },
    {
      "cell_type": "code",
      "source": [],
      "metadata": {
        "id": "vhmM2f0cXGqI"
      },
      "execution_count": null,
      "outputs": []
    }
  ]
}