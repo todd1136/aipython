{
  "nbformat": 4,
  "nbformat_minor": 0,
  "metadata": {
    "colab": {
      "provenance": [],
      "authorship_tag": "ABX9TyPF3Ir8qc2XU190kjGWzbyO",
      "include_colab_link": true
    },
    "kernelspec": {
      "name": "python3",
      "display_name": "Python 3"
    },
    "language_info": {
      "name": "python"
    }
  },
  "cells": [
    {
      "cell_type": "markdown",
      "metadata": {
        "id": "view-in-github",
        "colab_type": "text"
      },
      "source": [
        "<a href=\"https://colab.research.google.com/github/todd1136/aipython/blob/main/240105.ipynb\" target=\"_parent\"><img src=\"https://colab.research.google.com/assets/colab-badge.svg\" alt=\"Open In Colab\"/></a>"
      ]
    },
    {
      "cell_type": "code",
      "execution_count": 1,
      "metadata": {
        "colab": {
          "base_uri": "https://localhost:8080/"
        },
        "id": "SI1P8wDXO-rO",
        "outputId": "e6bdd045-6d60-40e2-9745-b0ec5b356c66"
      },
      "outputs": [
        {
          "output_type": "stream",
          "name": "stdout",
          "text": [
            "Name: John Age: 30 Occupation: Engineer\n",
            "Name: Alice Age: 25 Occupation: Designer\n",
            "Name: Bob Age: 22 Occupation: Artist\n"
          ]
        }
      ],
      "source": [
        "data = \"John,30,Engineer\\nAlice,25,Designer\\nBob,22,Artist\"\n",
        "lines = data.split(\"\\n\")\n",
        "for line in lines:\n",
        "  fields = line.split(\",\")\n",
        "  print(\"Name:\", fields[0], \"Age:\", fields[1], \"Occupation:\", fields[2])"
      ]
    },
    {
      "cell_type": "code",
      "source": [
        "words = ['Hello','world','this','is','a','test']\n",
        "sentence = ' '.join(words)\n",
        "print(sentence)"
      ],
      "metadata": {
        "colab": {
          "base_uri": "https://localhost:8080/"
        },
        "id": "1Qzgk0L-PKOD",
        "outputId": "1b821b31-0bb9-4449-c338-5ef829751725"
      },
      "execution_count": 2,
      "outputs": [
        {
          "output_type": "stream",
          "name": "stdout",
          "text": [
            "Hello world this is a test\n"
          ]
        }
      ]
    },
    {
      "cell_type": "code",
      "source": [
        "data = 'Geeks for Geeks'\n",
        "lines = data.split(\" \")\n",
        "print(lines)"
      ],
      "metadata": {
        "colab": {
          "base_uri": "https://localhost:8080/"
        },
        "id": "6ZMZoarkPo24",
        "outputId": "363a4025-4615-46ab-a520-0e72ebbe0a92"
      },
      "execution_count": 3,
      "outputs": [
        {
          "output_type": "stream",
          "name": "stdout",
          "text": [
            "['Geeks', 'for', 'Geeks']\n"
          ]
        }
      ]
    },
    {
      "cell_type": "code",
      "source": [
        "data = ['Geeks','for','Geeks']\n",
        "sentence = '-'.join(data)\n",
        "print(sentence)"
      ],
      "metadata": {
        "colab": {
          "base_uri": "https://localhost:8080/"
        },
        "id": "PZLm8jWxQOqw",
        "outputId": "0e3ef610-2d83-4a6e-b272-6deff3a37d7b"
      },
      "execution_count": 4,
      "outputs": [
        {
          "output_type": "stream",
          "name": "stdout",
          "text": [
            "Geeks-for-Geeks\n"
          ]
        }
      ]
    },
    {
      "cell_type": "code",
      "source": [
        "squares = [x**2 for x in range(5) if x%2 == 0]\n",
        "print(squares)"
      ],
      "metadata": {
        "colab": {
          "base_uri": "https://localhost:8080/"
        },
        "id": "R3wQf_02Rd-_",
        "outputId": "23d0a5a8-c27b-4787-8bce-e6c971cb7c42"
      },
      "execution_count": 6,
      "outputs": [
        {
          "output_type": "stream",
          "name": "stdout",
          "text": [
            "[0, 4, 16]\n"
          ]
        }
      ]
    },
    {
      "cell_type": "code",
      "source": [
        "squares_3 = [x**2 for x in range(1, 21) if x % 3 == 0]\n",
        "print(squares_3)"
      ],
      "metadata": {
        "colab": {
          "base_uri": "https://localhost:8080/"
        },
        "id": "ua3LeYcVS06g",
        "outputId": "1ae7ffae-140a-4216-8851-90c62f387636"
      },
      "execution_count": 13,
      "outputs": [
        {
          "output_type": "stream",
          "name": "stdout",
          "text": [
            "[9, 36, 81, 144, 225, 324]\n"
          ]
        }
      ]
    },
    {
      "cell_type": "code",
      "source": [
        "city = [\"Seoul\",\"New York\",\"London\",\"Shanghai\",\"Paris\",\"Tokyo\"]\n",
        "S_first = [x for x in city if x[0]=='S']\n",
        "print(S_first)"
      ],
      "metadata": {
        "colab": {
          "base_uri": "https://localhost:8080/"
        },
        "id": "M9-I9GnFT4bn",
        "outputId": "51251fcc-e28e-443e-e6d0-dbb7e93ce357"
      },
      "execution_count": 11,
      "outputs": [
        {
          "output_type": "stream",
          "name": "stdout",
          "text": [
            "['Seoul', 'Shanghai']\n"
          ]
        }
      ]
    },
    {
      "cell_type": "code",
      "source": [
        "fruits = ['apple','banana','cherry']\n",
        "for index, fruit in enumerate(fruits):\n",
        "  print(index,fruit)"
      ],
      "metadata": {
        "colab": {
          "base_uri": "https://localhost:8080/"
        },
        "id": "EXQc0eGtVeeK",
        "outputId": "9d420276-3757-4b9a-f89a-a2272e97db2c"
      },
      "execution_count": 12,
      "outputs": [
        {
          "output_type": "stream",
          "name": "stdout",
          "text": [
            "0 apple\n",
            "1 banana\n",
            "2 cherry\n"
          ]
        }
      ]
    },
    {
      "cell_type": "code",
      "source": [
        "fruits = ['a','b','c']\n",
        "for index,fruit in enumerate(fruits):\n",
        "  print('fruit{} name is {}'.format(index,fruit))"
      ],
      "metadata": {
        "colab": {
          "base_uri": "https://localhost:8080/"
        },
        "id": "13-XiBVzWcyf",
        "outputId": "eb2bd7ff-b03e-4f0f-c484-727df2205cd7"
      },
      "execution_count": 16,
      "outputs": [
        {
          "output_type": "stream",
          "name": "stdout",
          "text": [
            "fruit0 name is a\n",
            "fruit1 name is b\n",
            "fruit2 name is c\n"
          ]
        }
      ]
    },
    {
      "cell_type": "code",
      "source": [
        "fruits = ['a','b','c']\n",
        "for index,fruit in enumerate(fruits):\n",
        "  print('fruit',index,' name is ',fruit,sep='')"
      ],
      "metadata": {
        "colab": {
          "base_uri": "https://localhost:8080/"
        },
        "id": "8bSoW7j9Xa4I",
        "outputId": "783d09da-540a-480c-b104-6e3e31fbb713"
      },
      "execution_count": 17,
      "outputs": [
        {
          "output_type": "stream",
          "name": "stdout",
          "text": [
            "fruit0 name is a\n",
            "fruit1 name is b\n",
            "fruit2 name is c\n"
          ]
        }
      ]
    },
    {
      "cell_type": "code",
      "source": [
        "names = ['John','Jane','Doe']\n",
        "ages = [25,30,35]\n",
        "\n",
        "for name,age in zip(names,ages):\n",
        "  print(f\"{name} is {age} years old.\")"
      ],
      "metadata": {
        "colab": {
          "base_uri": "https://localhost:8080/"
        },
        "id": "X-FP6hLhZSNe",
        "outputId": "21bd9edf-f5a7-484f-8afb-c259bfcdf4ab"
      },
      "execution_count": 18,
      "outputs": [
        {
          "output_type": "stream",
          "name": "stdout",
          "text": [
            "John is 25 years old.\n",
            "Jane is 30 years old.\n",
            "Doe is 35 years old.\n"
          ]
        }
      ]
    },
    {
      "cell_type": "code",
      "source": [
        "name = [\"M\",\"N\",\"S\",\"A\"]\n",
        "roll_no = [4,1,3,2]\n",
        "a=[(n,r) for n,r in zip(name,roll_no)]\n",
        "print(a)\n"
      ],
      "metadata": {
        "colab": {
          "base_uri": "https://localhost:8080/"
        },
        "id": "K4LZ_-BmZi5E",
        "outputId": "65c63164-cc61-43ac-97a8-010a6bdd2717"
      },
      "execution_count": 21,
      "outputs": [
        {
          "output_type": "stream",
          "name": "stdout",
          "text": [
            "[('M', 4), ('N', 1), ('S', 3), ('A', 2)]\n"
          ]
        }
      ]
    },
    {
      "cell_type": "code",
      "source": [
        "add = lambda x,y:x+y\n",
        "add(10,10)"
      ],
      "metadata": {
        "colab": {
          "base_uri": "https://localhost:8080/"
        },
        "id": "338B10wTbLK3",
        "outputId": "c3a624c1-6186-41bf-d2c1-605767a1f7a7"
      },
      "execution_count": 23,
      "outputs": [
        {
          "output_type": "execute_result",
          "data": {
            "text/plain": [
              "20"
            ]
          },
          "metadata": {},
          "execution_count": 23
        }
      ]
    },
    {
      "cell_type": "code",
      "source": [],
      "metadata": {
        "id": "AZMETM3meWNP"
      },
      "execution_count": null,
      "outputs": []
    }
  ]
}